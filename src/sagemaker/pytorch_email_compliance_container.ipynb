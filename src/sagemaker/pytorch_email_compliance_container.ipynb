{
 "cells": [
  {
   "cell_type": "markdown",
   "metadata": {},
   "source": [
    "# Part 1: Packaging and Uploading our own Algorithm for use with Amazon SageMaker\n",
    "\n",
    "\n",
    "\n",
    "### How Amazon SageMaker runs our own Docker container\n",
    "\n",
    "Because you can run the same image in training or hosting, Amazon SageMaker runs your container with the argument `train` or `serve`. How your container processes this argument depends on the container. All SageMaker deep learning framework containers already cover this requirement and will trigger your defined training algorithm and inference code.\n",
    "\n",
    "* If you specify a program as an `ENTRYPOINT` in the Dockerfile, that program will be run at startup and its first argument will be `train` or `serve`. The program can then look at that argument and decide what to do. The original `ENTRYPOINT` specified within the SageMaker PyTorch is [here](https://github.com/aws/sagemaker-pytorch-container/blob/master/docker/0.4.0/final/Dockerfile.cpu#L18).\n",
    "\n",
    "#### Running your container during training\n",
    "\n",
    "Currently, our SageMaker PyTorch container utilizes [console_scripts](http://python-packaging.readthedocs.io/en/latest/command-line-scripts.html#the-console-scripts-entry-point) to make use of the `train` command issued at training time. The line that gets invoked during `train` is defined within the setup.py file inside [SageMaker Containers](https://github.com/aws/sagemaker-containers/blob/master/setup.py#L48), our common SageMaker deep learning container framework. When this command is run, it will invoke the [trainer class](https://github.com/aws/sagemaker-containers/blob/master/src/sagemaker_containers/cli/train.py) to run, which will finally invoke our [PyTorch container code](https://github.com/aws/sagemaker-pytorch-container/blob/master/src/sagemaker_pytorch_container/training.py) to run your Python file.\n",
    "\n",
    "A number of files are laid out for your use, under the `/opt/ml` directory:\n",
    "\n",
    "    /opt/ml\n",
    "    ├── input\n",
    "    │   ├── config\n",
    "    │   │   ├── hyperparameters.json\n",
    "    │   │   └── resourceConfig.json\n",
    "    │   └── data\n",
    "    │       └── <channel_name>\n",
    "    │           └── <input data>\n",
    "    ├── model\n",
    "    │   └── <model files>\n",
    "    └── output\n",
    "        └── failure\n",
    "\n",
    "##### The input\n",
    "\n",
    "* `/opt/ml/input/config` contains information to control how your program runs. `hyperparameters.json` is a JSON-formatted dictionary of hyperparameter names to values. These values are always strings, so you may need to convert them. `resourceConfig.json` is a JSON-formatted file that describes the network layout used for distributed training.\n",
    "* `/opt/ml/input/data/<channel_name>/` (for File mode) contains the input data for that channel. The channels are created based on the call to CreateTrainingJob but it's generally important that channels match algorithm expectations. The files for each channel are copied from S3 to this directory, preserving the tree structure indicated by the S3 key structure. \n",
    "* `/opt/ml/input/data/<channel_name>_<epoch_number>` (for Pipe mode) is the pipe for a given epoch. Epochs start at zero and go up by one each time you read them. There is no limit to the number of epochs that you can run, but you must close each pipe before reading the next epoch.\n",
    "\n",
    "##### The output\n",
    "\n",
    "* `/opt/ml/model/` is the directory where you write the model that your algorithm generates. Your model can be in any format that you want. It can be a single file or a whole directory tree. SageMaker packages any files in this directory into a compressed tar archive file. This file is made available at the S3 location returned in the `DescribeTrainingJob` result.\n",
    "* `/opt/ml/output` is a directory where the algorithm can write a file `failure` that describes why the job failed. The contents of this file are returned in the `FailureReason` field of the `DescribeTrainingJob` result. For jobs that succeed, there is no reason to write this file as it is ignored.\n",
    "\n",
    "#### Running your container during hosting\n",
    "\n",
    "Hosting has a very different model than training because hosting is reponding to inference requests that come in via HTTP. Currently, the SageMaker PyTorch containers [uses](https://github.com/aws/sagemaker-pytorch-container/blob/master/src/sagemaker_pytorch_container/serving.py#L103) our [recommended Python serving stack](https://github.com/aws/sagemaker-containers/blob/master/src/sagemaker_containers/_server.py#L44) to provide robust and scalable serving of inference requests:\n",
    "\n",
    "![Request serving stack](stack.png)\n",
    "\n",
    "Amazon SageMaker uses two URLs in the container:\n",
    "\n",
    "* `/ping` receives `GET` requests from the infrastructure. Your program returns 200 if the container is up and accepting requests.\n",
    "* `/invocations` is the endpoint that receives client inference `POST` requests. The format of the request and the response is up to the algorithm. If the client supplied `ContentType` and `Accept` headers, these are passed in as well. \n",
    "\n",
    "The container has the model files in the same place that they were written to during training:\n",
    "\n",
    "    /opt/ml\n",
    "    └── model\n",
    "        └── <model files>\n",
    "\n"
   ]
  },
  {
   "cell_type": "markdown",
   "metadata": {},
   "source": [
    "### The parts of the sample container\n",
    "\n",
    "The `container` directory has all the components you need to extend the SageMaker PyTorch container to use as an sample algorithm:\n",
    "\n",
    "    .\n",
    "    ├── Dockerfile\n",
    "    ├── build_and_push.sh\n",
    "    └── email-compliance-bert\n",
    "        ├── email-compliance-bert.py\n",
    "\n",
    "Let's discuss each of these in turn:\n",
    "\n",
    "* __`Dockerfile`__ describes how to build your Docker container image. More details are provided below.\n",
    "* __`build_and_push.sh`__ is a script that uses the Dockerfile to build your container images and then pushes it to ECR. We invoke the commands directly later in this notebook, but you can just copy and run the script for your own algorithms.\n",
    "* __`email-compliance-bert`__ is the directory which contains our user code to be invoked.\n",
    "\n",
    "In this simple application, we install only one file in the container. You may only need that many, but if you have many supporting routines, you may wish to install more.\n",
    "\n",
    "The files that we put in the container are:\n",
    "\n",
    "* __`email-compliance-bert.py`__ is the program that implements our training algorithm and handles loading our model for inferences."
   ]
  },
  {
   "cell_type": "markdown",
   "metadata": {},
   "source": [
    "### The Dockerfile\n",
    "\n",
    "The Dockerfile describes the image that we want to build. You can think of it as describing the complete operating system installation of the system that you want to run. A Docker container running is quite a bit lighter than a full operating system, however, because it takes advantage of Linux on the host machine for the basic operations. \n",
    "\n",
    "We start from the SageMaker PyTorch image as the base. The base image is an ECR image, so it will have the following pattern.\n",
    "* {account}.dkr.ecr.{region}.amazonaws.com/sagemaker-{framework}:{framework_version}-{processor_type}-{python_version}\n",
    "\n",
    "Here is an explanation of each field.\n",
    "1. account - AWS account ID the ECR image belongs to. Our public deep learning framework images are all under the 520713654638 account.\n",
    "2. region - The region the ECR image belongs to. [Available regions](https://aws.amazon.com/about-aws/global-infrastructure/regional-product-services/).\n",
    "3. framework - The deep learning framework.\n",
    "4. framework_version - The version of the deep learning framework.\n",
    "5. processor_type - CPU or GPU.\n",
    "6. python_version - The supported version of Python.\n",
    "\n",
    "So the SageMaker PyTorch ECR image would be:\n",
    "520713654638.dkr.ecr.us-west-2.amazonaws.com/sagemaker-pytorch:0.4.0-cpu-py3\n",
    "\n",
    "Information on supported frameworks and versions can be found in this [README](https://github.com/aws/sagemaker-python-sdk).\n",
    "\n",
    "Next, we add the code that implements our specific algorithm to the container and set up the right environment for it to run under.\n",
    "\n",
    "**DISCLAIMER: As of now, the support for the two environment variables below are only supported for the SageMaker Chainer (4.1.0+) and PyTorch (0.4.0+) containers.**\n",
    "\n",
    "Finally, we need to specify two environment variables.\n",
    "1. SAGEMAKER_SUBMIT_DIRECTORY - the directory within the container containing our Python script for training and inference.\n",
    "2. SAGEMAKER_PROGRAM - the Python script that should be invoked for training and inference.\n",
    "\n",
    "Let's look at the Dockerfile for this example."
   ]
  },
  {
   "cell_type": "code",
   "execution_count": 8,
   "metadata": {},
   "outputs": [
    {
     "name": "stdout",
     "output_type": "stream",
     "text": [
      "# Copyright 2017-2018 Amazon.com, Inc. or its affiliates. All Rights Reserved.\r\n",
      "#\r\n",
      "# Licensed under the Apache License, Version 2.0 (the \"License\"). You\r\n",
      "# may not use this file except in compliance with the License. A copy of\r\n",
      "# the License is located at\r\n",
      "#\r\n",
      "#     http://aws.amazon.com/apache2.0/\r\n",
      "#\r\n",
      "# or in the \"license\" file accompanying this file. This file is\r\n",
      "# distributed on an \"AS IS\" BASIS, WITHOUT WARRANTIES OR CONDITIONS OF\r\n",
      "# ANY KIND, either express or implied. See the License for the specific\r\n",
      "# language governing permissions and limitations under the License.\r\n",
      "\r\n",
      "# For more information on creating a Dockerfile\r\n",
      "# https://docs.docker.com/compose/gettingstarted/#step-2-create-a-dockerfile\r\n",
      "# https://github.com/awslabs/amazon-sagemaker-examples/master/advanced_functionality/pytorch_extending_our_containers/pytorch_extending_our_containers.ipynb\r\n",
      "ARG REGION=us-east-1\r\n",
      "\r\n",
      "# SageMaker PyTorch image\r\n",
      "FROM 520713654638.dkr.ecr.$REGION.amazonaws.com/sagemaker-pytorch:1.0.0-gpu-py3\r\n",
      "\r\n",
      "ENV PATH=\"/opt/ml/code:${PATH}\"\r\n",
      "\r\n",
      "RUN pip install  pytorch-transformers\r\n",
      "\r\n",
      "# /opt/ml and all subdirectories are utilized by SageMaker, we use the /code subdirectory to store our user code.\r\n",
      "COPY /email-compliance /opt/ml/code\r\n",
      "\r\n",
      "# this environment variable is used by the SageMaker PyTorch container to determine our user code directory.\r\n",
      "ENV SAGEMAKER_SUBMIT_DIRECTORY /opt/ml/code\r\n",
      "\r\n",
      "# this environment variable is used by the SageMaker PyTorch container to determine our program entry point\r\n",
      "# for training and serving.\r\n",
      "# For more information: https://github.com/aws/sagemaker-pytorch-container\r\n",
      "ENV SAGEMAKER_PROGRAM email-compliance-bert.py\r\n"
     ]
    }
   ],
   "source": [
    "!cat container/Dockerfile"
   ]
  },
  {
   "cell_type": "markdown",
   "metadata": {},
   "source": [
    "### Building and registering the container\n",
    "\n",
    "The following shell code shows how to build the container image using `docker build` and push the container image to ECR using `docker push`. This code is also available as the shell script `container/build-and-push.sh`, which you can run as `build-and-push.sh pytorch-extending-our-containers-cifar10-example` to build the image `pytorch-extending-our-containers-cifar10-example`. \n",
    "\n",
    "This code looks for an ECR repository in the account you're using and the current default region (if you're using a SageMaker notebook instance, this is the region where the notebook instance was created). If the repository doesn't exist, the script will create it. In addition, since we are using the SageMaker PyTorch image as the base, we will need to retrieve ECR credentials to pull this public image."
   ]
  },
  {
   "cell_type": "code",
   "execution_count": 9,
   "metadata": {},
   "outputs": [
    {
     "name": "stdout",
     "output_type": "stream",
     "text": [
      "Login Succeeded\n",
      "Login Succeeded\n",
      "Sending build context to Docker daemon   47.1kB\r",
      "\r\n",
      "Step 1/7 : ARG REGION=us-east-1\n",
      "Step 2/7 : FROM 520713654638.dkr.ecr.$REGION.amazonaws.com/sagemaker-pytorch:1.0.0-gpu-py3\n",
      " ---> ddbee4acc621\n",
      "Step 3/7 : ENV PATH=\"/opt/ml/code:${PATH}\"\n",
      " ---> Using cache\n",
      " ---> 747460584c63\n",
      "Step 4/7 : RUN pip install  pytorch-transformers\n",
      " ---> Running in a19033a279ba\n",
      "Collecting pytorch-transformers\n",
      "  Downloading https://files.pythonhosted.org/packages/a3/b7/d3d18008a67e0b968d1ab93ad444fc05699403fa662f634b2f2c318a508b/pytorch_transformers-1.2.0-py3-none-any.whl (176kB)\n",
      "Collecting sentencepiece (from pytorch-transformers)\n",
      "  Downloading https://files.pythonhosted.org/packages/14/3d/efb655a670b98f62ec32d66954e1109f403db4d937c50d779a75b9763a29/sentencepiece-0.1.83-cp36-cp36m-manylinux1_x86_64.whl (1.0MB)\n",
      "Collecting regex (from pytorch-transformers)\n",
      "  Downloading https://files.pythonhosted.org/packages/6f/a6/99eeb5904ab763db87af4bd71d9b1dfdd9792681240657a4c0a599c10a81/regex-2019.08.19.tar.gz (654kB)\n",
      "Requirement already satisfied: boto3 in /usr/local/lib/python3.6/dist-packages (from pytorch-transformers) (1.9.158)\n",
      "Requirement already satisfied: numpy in /usr/local/lib/python3.6/dist-packages (from pytorch-transformers) (1.16.4)\n",
      "Requirement already satisfied: requests in /usr/local/lib/python3.6/dist-packages (from pytorch-transformers) (2.22.0)\n",
      "Collecting sacremoses (from pytorch-transformers)\n",
      "  Downloading https://files.pythonhosted.org/packages/df/24/0b86f494d3a5c7531f6d0c77d39fd8f9d42e651244505d3d737e31db9a4d/sacremoses-0.0.33.tar.gz (802kB)\n",
      "Requirement already satisfied: tqdm in /usr/local/lib/python3.6/dist-packages (from pytorch-transformers) (4.32.1)\n",
      "Requirement already satisfied: torch>=1.0.0 in /usr/local/lib/python3.6/dist-packages (from pytorch-transformers) (1.0.0)\n",
      "Requirement already satisfied: jmespath<1.0.0,>=0.7.1 in /usr/local/lib/python3.6/dist-packages (from boto3->pytorch-transformers) (0.9.4)\n",
      "Requirement already satisfied: botocore<1.13.0,>=1.12.158 in /usr/local/lib/python3.6/dist-packages (from boto3->pytorch-transformers) (1.12.158)\n",
      "Requirement already satisfied: s3transfer<0.3.0,>=0.2.0 in /usr/local/lib/python3.6/dist-packages (from boto3->pytorch-transformers) (0.2.0)\n",
      "Requirement already satisfied: idna<2.9,>=2.5 in /usr/local/lib/python3.6/dist-packages (from requests->pytorch-transformers) (2.8)\n",
      "Requirement already satisfied: chardet<3.1.0,>=3.0.2 in /usr/local/lib/python3.6/dist-packages (from requests->pytorch-transformers) (3.0.4)\n",
      "Requirement already satisfied: urllib3!=1.25.0,!=1.25.1,<1.26,>=1.21.1 in /usr/local/lib/python3.6/dist-packages (from requests->pytorch-transformers) (1.25.3)\n",
      "Requirement already satisfied: certifi>=2017.4.17 in /usr/local/lib/python3.6/dist-packages (from requests->pytorch-transformers) (2019.3.9)\n",
      "Requirement already satisfied: six in /usr/local/lib/python3.6/dist-packages (from sacremoses->pytorch-transformers) (1.12.0)\n",
      "Requirement already satisfied: click in /usr/local/lib/python3.6/dist-packages (from sacremoses->pytorch-transformers) (7.0)\n",
      "Collecting joblib (from sacremoses->pytorch-transformers)\n",
      "  Downloading https://files.pythonhosted.org/packages/cd/c1/50a758e8247561e58cb87305b1e90b171b8c767b15b12a1734001f41d356/joblib-0.13.2-py2.py3-none-any.whl (278kB)\n",
      "Requirement already satisfied: docutils>=0.10 in /usr/local/lib/python3.6/dist-packages (from botocore<1.13.0,>=1.12.158->boto3->pytorch-transformers) (0.14)\n",
      "Requirement already satisfied: python-dateutil<3.0.0,>=2.1; python_version >= \"2.7\" in /usr/local/lib/python3.6/dist-packages (from botocore<1.13.0,>=1.12.158->boto3->pytorch-transformers) (2.8.0)\n",
      "Building wheels for collected packages: regex, sacremoses\n",
      "  Running setup.py bdist_wheel for regex: started\n",
      "  Running setup.py bdist_wheel for regex: finished with status 'done'\n",
      "  Stored in directory: /root/.cache/pip/wheels/90/04/07/b5010fb816721eb3d6dd64ed5cc8111ca23f97fdab8619b5be\n",
      "  Running setup.py bdist_wheel for sacremoses: started\n",
      "  Running setup.py bdist_wheel for sacremoses: finished with status 'done'\n",
      "  Stored in directory: /root/.cache/pip/wheels/70/87/56/e40575cca30d12fee8875d523b8878b7aba866a9f03b2fd983\n",
      "Successfully built regex sacremoses\n",
      "Installing collected packages: sentencepiece, regex, joblib, sacremoses, pytorch-transformers\n",
      "Successfully installed joblib-0.13.2 pytorch-transformers-1.2.0 regex-2019.8.19 sacremoses-0.0.33 sentencepiece-0.1.83\n",
      "\u001b[91mYou are using pip version 18.1, however version 19.2.3 is available.\n",
      "You should consider upgrading via the 'pip install --upgrade pip' command.\n",
      "\u001b[0mRemoving intermediate container a19033a279ba\n",
      " ---> da28353797e3\n",
      "Step 5/7 : COPY /email-compliance /opt/ml/code\n",
      "The push refers to repository [517600888691.dkr.ecr.us-east-1.amazonaws.com/pytorch-email-compliance-bert]\n"
     ]
    },
    {
     "name": "stderr",
     "output_type": "stream",
     "text": [
      "WARNING! Using --password via the CLI is insecure. Use --password-stdin.\n",
      "WARNING! Your password will be stored unencrypted in /home/ec2-user/.docker/config.json.\n",
      "Configure a credential helper to remove this warning. See\n",
      "https://docs.docker.com/engine/reference/commandline/login/#credentials-store\n",
      "\n",
      "WARNING! Using --password via the CLI is insecure. Use --password-stdin.\n",
      "WARNING! Your password will be stored unencrypted in /home/ec2-user/.docker/config.json.\n",
      "Configure a credential helper to remove this warning. See\n",
      "https://docs.docker.com/engine/reference/commandline/login/#credentials-store\n",
      "\n",
      "COPY failed: stat /var/lib/docker/tmp/docker-builder781835139/email-compliance: no such file or directory\n",
      "Error response from daemon: No such image: pytorch-email-compliance-bert:latest\n",
      "An image does not exist locally with the tag: 517600888691.dkr.ecr.us-east-1.amazonaws.com/pytorch-email-compliance-bert\n"
     ]
    }
   ],
   "source": [
    "%%sh\n",
    "\n",
    "# The name of our algorithm\n",
    "algorithm_name=pytorch-email-compliance-bert\n",
    "\n",
    "cd container\n",
    "\n",
    "account=$(aws sts get-caller-identity --query Account --output text)\n",
    "\n",
    "# Get the region defined in the current configuration (default to us-west-2 if none defined)\n",
    "region=$(aws configure get region)\n",
    "region=${region:-us-east-1}\n",
    "\n",
    "fullname=\"${account}.dkr.ecr.${region}.amazonaws.com/${algorithm_name}:latest\"\n",
    "\n",
    "# If the repository doesn't exist in ECR, create it.\n",
    "\n",
    "aws ecr describe-repositories --repository-names \"${algorithm_name}\" > /dev/null 2>&1\n",
    "\n",
    "if [ $? -ne 0 ]\n",
    "then\n",
    "    aws ecr create-repository --repository-name \"${algorithm_name}\" > /dev/null\n",
    "fi\n",
    "\n",
    "# Get the login command from ECR and execute it directly\n",
    "$(aws ecr get-login --region ${region} --no-include-email)\n",
    "\n",
    "# Get the login command from ECR in order to pull down the SageMaker PyTorch image\n",
    "$(aws ecr get-login --registry-ids 520713654638 --region ${region} --no-include-email)\n",
    "\n",
    "# Build the docker image locally with the image name and then push it to ECR\n",
    "# with the full name.\n",
    "\n",
    "docker build  -t ${algorithm_name} . --build-arg REGION=${region}\n",
    "docker tag ${algorithm_name} ${fullname}\n",
    "\n",
    "docker push ${fullname}"
   ]
  },
  {
   "cell_type": "markdown",
   "metadata": {},
   "source": [
    "## Testing your algorithm on your local machine\n",
    "\n",
    "When you're packaging your first algorithm to use with Amazon SageMaker, you probably want to test it yourself to make sure it's working correctly. We use the [SageMaker Python SDK](https://github.com/aws/sagemaker-python-sdk) to test both locally and on SageMaker. For more examples with the SageMaker Python SDK, see [Amazon SageMaker Examples](https://github.com/awslabs/amazon-sagemaker-examples/tree/master/sagemaker-python-sdk). In order to test our algorithm, we need our dataset."
   ]
  },
  {
   "cell_type": "markdown",
   "metadata": {},
   "source": [
    "## Upload compliance dataset\n",
    "We will be utilizing the CIFAR10 dataset loader provided within PyTorch to download and load our data for training."
   ]
  },
  {
   "cell_type": "code",
   "execution_count": 2,
   "metadata": {},
   "outputs": [
    {
     "name": "stderr",
     "output_type": "stream",
     "text": [
      "\r",
      "0it [00:00, ?it/s]"
     ]
    },
    {
     "name": "stdout",
     "output_type": "stream",
     "text": [
      "Downloading https://www.cs.toronto.edu/~kriz/cifar-10-python.tar.gz to /tmp/pytorch-example/cifar-10-data/cifar-10-python.tar.gz\n"
     ]
    },
    {
     "name": "stderr",
     "output_type": "stream",
     "text": [
      "170500096it [00:04, 36556584.84it/s]                               \n"
     ]
    },
    {
     "name": "stdout",
     "output_type": "stream",
     "text": [
      "Files already downloaded and verified\n"
     ]
    }
   ],
   "source": [
    "from utils.utils_cifar import get_train_data_loader, get_test_data_loader, imshow, classes\n",
    "\n",
    "trainloader = get_train_data_loader('/tmp/pytorch-example/cifar-10-data')\n",
    "testloader = get_test_data_loader('/tmp/pytorch-example/cifar-10-data')"
   ]
  },
  {
   "cell_type": "code",
   "execution_count": 3,
   "metadata": {},
   "outputs": [
    {
     "name": "stdout",
     "output_type": "stream",
     "text": [
      "cifar-10-batches-py  cifar-10-python.tar.gz\r\n"
     ]
    }
   ],
   "source": [
    "# There should be the original tar file along with the extracted data directory. (cifar-10-python.tar.gz, cifar-10-batches-py)\n",
    "! ls /tmp/pytorch-example/cifar-10-data"
   ]
  },
  {
   "cell_type": "markdown",
   "metadata": {},
   "source": [
    "## SageMaker Python SDK Local Training\n",
    "To represent our training, we use the Estimator class, which needs to be configured in five steps. \n",
    "1. IAM role - our AWS execution role\n",
    "2. train_instance_count - number of instances to use for training.\n",
    "3. train_instance_type - type of instance to use for training. For training locally, we specify `local` or `local_gpu`.\n",
    "4. image_name - our custom PyTorch Docker image we created.\n",
    "5. hyperparameters - hyperparameters we want to pass.\n",
    "\n",
    "Let's start with setting up our IAM role. We make use of a helper function within the Python SDK. This function throw an exception if run outside of a SageMaker notebook instance, as it gets metadata from the notebook instance. If running outside, you must provide an IAM role with proper access stated above in [Permissions](#Permissions)."
   ]
  },
  {
   "cell_type": "code",
   "execution_count": 4,
   "metadata": {},
   "outputs": [],
   "source": [
    "from sagemaker import get_execution_role\n",
    "\n",
    "role = get_execution_role()"
   ]
  },
  {
   "cell_type": "markdown",
   "metadata": {},
   "source": [
    "## Fit, Deploy, Predict\n",
    "\n",
    "Now that the rest of our estimator is configured, we can call `fit()` with the path to our local CIFAR10 dataset prefixed with `file://`. This invokes our PyTorch container with 'train' and passes in our hyperparameters and other metadata as json files in /opt/ml/input/config within the container to our program entry point defined in the Dockerfile.\n",
    "\n",
    "After our training has succeeded, our training algorithm outputs our trained model within the /opt/ml/model directory, which is used to handle predictions.\n",
    "\n",
    "We can then call `deploy()` with an instance_count and instance_type, which is 1 and `local`. This invokes our PyTorch container with 'serve', which setups our container to handle prediction requests as defined [here](https://github.com/aws/sagemaker-pytorch-container/blob/master/src/sagemaker_pytorch_container/serving.py#L103). What is returned is a predictor, which is used to make inferences against our trained model.\n",
    "\n",
    "After our prediction, we can delete our endpoint.\n",
    "\n",
    "We recommend testing and training your training algorithm locally first, as it provides quicker iterations and better debuggability."
   ]
  },
  {
   "cell_type": "code",
   "execution_count": 5,
   "metadata": {},
   "outputs": [
    {
     "name": "stdout",
     "output_type": "stream",
     "text": [
      "The user has root access.\n",
      "nvidia-docker2 already installed. We are good to go!\n",
      "SageMaker instance route table setup is ok. We are good to go.\n",
      "SageMaker instance routing for Docker is ok. We are good to go!\n"
     ]
    }
   ],
   "source": [
    "# Lets set up our SageMaker notebook instance for local mode.\n",
    "!/bin/bash ./utils/setup.sh"
   ]
  },
  {
   "cell_type": "code",
   "execution_count": 6,
   "metadata": {},
   "outputs": [
    {
     "name": "stdout",
     "output_type": "stream",
     "text": [
      "Instance type = local_gpu\n"
     ]
    }
   ],
   "source": [
    "import os\n",
    "import subprocess\n",
    "\n",
    "instance_type = 'local'\n",
    "\n",
    "if subprocess.call('nvidia-smi') == 0:\n",
    "    ## Set type to GPU if one is present\n",
    "    instance_type = 'local_gpu'\n",
    "    \n",
    "print(\"Instance type = \" + instance_type)"
   ]
  },
  {
   "cell_type": "code",
   "execution_count": 7,
   "metadata": {},
   "outputs": [
    {
     "name": "stdout",
     "output_type": "stream",
     "text": [
      "Creating tmpqirbxi7n_algo-1-24lds_1 ... \n",
      "\u001b[1BAttaching to tmpqirbxi7n_algo-1-24lds_12mdone\u001b[0m\n",
      "\u001b[36malgo-1-24lds_1  |\u001b[0m 2019-09-11 19:00:47,033 sagemaker-containers INFO     Imported framework sagemaker_pytorch_container.training\n",
      "\u001b[36malgo-1-24lds_1  |\u001b[0m 2019-09-11 19:00:47,036 sagemaker-containers INFO     No GPUs detected (normal if no gpus installed)\n",
      "\u001b[36malgo-1-24lds_1  |\u001b[0m 2019-09-11 19:00:47,049 sagemaker_pytorch_container.training INFO     Block until all host DNS lookups succeed.\n",
      "\u001b[36malgo-1-24lds_1  |\u001b[0m 2019-09-11 19:00:47,051 sagemaker_pytorch_container.training INFO     Invoking user training script.\n",
      "\u001b[36malgo-1-24lds_1  |\u001b[0m 2019-09-11 19:00:47,052 sagemaker-containers INFO     Module cifar10 does not provide a setup.py. \n",
      "\u001b[36malgo-1-24lds_1  |\u001b[0m Generating setup.py\n",
      "\u001b[36malgo-1-24lds_1  |\u001b[0m 2019-09-11 19:00:47,052 sagemaker-containers INFO     Generating setup.cfg\n",
      "\u001b[36malgo-1-24lds_1  |\u001b[0m 2019-09-11 19:00:47,052 sagemaker-containers INFO     Generating MANIFEST.in\n",
      "\u001b[36malgo-1-24lds_1  |\u001b[0m 2019-09-11 19:00:47,052 sagemaker-containers INFO     Installing module with the following command:\n",
      "\u001b[36malgo-1-24lds_1  |\u001b[0m /usr/bin/python -m pip install -U . \n",
      "\u001b[36malgo-1-24lds_1  |\u001b[0m Processing /opt/ml/code\n",
      "\u001b[36malgo-1-24lds_1  |\u001b[0m Building wheels for collected packages: cifar10\n",
      "\u001b[36malgo-1-24lds_1  |\u001b[0m   Running setup.py bdist_wheel for cifar10 ... \u001b[?25ldone\n",
      "\u001b[36malgo-1-24lds_1  |\u001b[0m \u001b[?25h  Stored in directory: /tmp/pip-ephem-wheel-cache-wi88ddsz/wheels/35/24/16/37574d11bf9bde50616c67372a334f94fa8356bc7164af8ca3\n",
      "\u001b[36malgo-1-24lds_1  |\u001b[0m Successfully built cifar10\n",
      "\u001b[36malgo-1-24lds_1  |\u001b[0m Installing collected packages: cifar10\n",
      "\u001b[36malgo-1-24lds_1  |\u001b[0m Successfully installed cifar10-1.0.0\n",
      "\u001b[36malgo-1-24lds_1  |\u001b[0m \u001b[33mYou are using pip version 18.1, however version 19.2.3 is available.\n",
      "\u001b[36malgo-1-24lds_1  |\u001b[0m You should consider upgrading via the 'pip install --upgrade pip' command.\u001b[0m\n",
      "\u001b[36malgo-1-24lds_1  |\u001b[0m 2019-09-11 19:00:48,139 sagemaker-containers INFO     No GPUs detected (normal if no gpus installed)\n",
      "\u001b[36malgo-1-24lds_1  |\u001b[0m 2019-09-11 19:00:48,152 sagemaker-containers INFO     Invoking user script\n",
      "\u001b[36malgo-1-24lds_1  |\u001b[0m \n",
      "\u001b[36malgo-1-24lds_1  |\u001b[0m Training Env:\n",
      "\u001b[36malgo-1-24lds_1  |\u001b[0m \n",
      "\u001b[36malgo-1-24lds_1  |\u001b[0m {\n",
      "\u001b[36malgo-1-24lds_1  |\u001b[0m     \"input_dir\": \"/opt/ml/input\",\n",
      "\u001b[36malgo-1-24lds_1  |\u001b[0m     \"num_gpus\": 0,\n",
      "\u001b[36malgo-1-24lds_1  |\u001b[0m     \"output_intermediate_dir\": \"/opt/ml/output/intermediate\",\n",
      "\u001b[36malgo-1-24lds_1  |\u001b[0m     \"resource_config\": {\n",
      "\u001b[36malgo-1-24lds_1  |\u001b[0m         \"hosts\": [\n",
      "\u001b[36malgo-1-24lds_1  |\u001b[0m             \"algo-1-24lds\"\n",
      "\u001b[36malgo-1-24lds_1  |\u001b[0m         ],\n",
      "\u001b[36malgo-1-24lds_1  |\u001b[0m         \"current_host\": \"algo-1-24lds\"\n",
      "\u001b[36malgo-1-24lds_1  |\u001b[0m     },\n",
      "\u001b[36malgo-1-24lds_1  |\u001b[0m     \"hosts\": [\n",
      "\u001b[36malgo-1-24lds_1  |\u001b[0m         \"algo-1-24lds\"\n",
      "\u001b[36malgo-1-24lds_1  |\u001b[0m     ],\n",
      "\u001b[36malgo-1-24lds_1  |\u001b[0m     \"current_host\": \"algo-1-24lds\",\n",
      "\u001b[36malgo-1-24lds_1  |\u001b[0m     \"job_name\": \"pytorch-extending-our-containers-cifar1-2019-09-11-19-00-43-009\",\n",
      "\u001b[36malgo-1-24lds_1  |\u001b[0m     \"log_level\": 20,\n",
      "\u001b[36malgo-1-24lds_1  |\u001b[0m     \"module_name\": \"cifar10\",\n",
      "\u001b[36malgo-1-24lds_1  |\u001b[0m     \"input_config_dir\": \"/opt/ml/input/config\",\n",
      "\u001b[36malgo-1-24lds_1  |\u001b[0m     \"user_entry_point\": \"cifar10.py\",\n",
      "\u001b[36malgo-1-24lds_1  |\u001b[0m     \"framework_module\": \"sagemaker_pytorch_container.training:main\",\n",
      "\u001b[36malgo-1-24lds_1  |\u001b[0m     \"input_data_config\": {\n",
      "\u001b[36malgo-1-24lds_1  |\u001b[0m         \"training\": {\n",
      "\u001b[36malgo-1-24lds_1  |\u001b[0m             \"TrainingInputMode\": \"File\"\n",
      "\u001b[36malgo-1-24lds_1  |\u001b[0m         }\n",
      "\u001b[36malgo-1-24lds_1  |\u001b[0m     },\n",
      "\u001b[36malgo-1-24lds_1  |\u001b[0m     \"channel_input_dirs\": {\n",
      "\u001b[36malgo-1-24lds_1  |\u001b[0m         \"training\": \"/opt/ml/input/data/training\"\n",
      "\u001b[36malgo-1-24lds_1  |\u001b[0m     },\n",
      "\u001b[36malgo-1-24lds_1  |\u001b[0m     \"hyperparameters\": {\n",
      "\u001b[36malgo-1-24lds_1  |\u001b[0m         \"epochs\": 1\n",
      "\u001b[36malgo-1-24lds_1  |\u001b[0m     },\n",
      "\u001b[36malgo-1-24lds_1  |\u001b[0m     \"output_data_dir\": \"/opt/ml/output/data\",\n",
      "\u001b[36malgo-1-24lds_1  |\u001b[0m     \"module_dir\": \"/opt/ml/code\",\n",
      "\u001b[36malgo-1-24lds_1  |\u001b[0m     \"output_dir\": \"/opt/ml/output\",\n",
      "\u001b[36malgo-1-24lds_1  |\u001b[0m     \"additional_framework_parameters\": {},\n",
      "\u001b[36malgo-1-24lds_1  |\u001b[0m     \"network_interface_name\": \"ethwe\",\n",
      "\u001b[36malgo-1-24lds_1  |\u001b[0m     \"model_dir\": \"/opt/ml/model\",\n",
      "\u001b[36malgo-1-24lds_1  |\u001b[0m     \"num_cpus\": 32\n",
      "\u001b[36malgo-1-24lds_1  |\u001b[0m }\n",
      "\u001b[36malgo-1-24lds_1  |\u001b[0m \n",
      "\u001b[36malgo-1-24lds_1  |\u001b[0m Environment variables:\n",
      "\u001b[36malgo-1-24lds_1  |\u001b[0m \n",
      "\u001b[36malgo-1-24lds_1  |\u001b[0m SM_OUTPUT_INTERMEDIATE_DIR=/opt/ml/output/intermediate\n",
      "\u001b[36malgo-1-24lds_1  |\u001b[0m SM_NUM_CPUS=32\n",
      "\u001b[36malgo-1-24lds_1  |\u001b[0m SM_NETWORK_INTERFACE_NAME=ethwe\n",
      "\u001b[36malgo-1-24lds_1  |\u001b[0m SM_USER_ARGS=[\"--epochs\",\"1\"]\n",
      "\u001b[36malgo-1-24lds_1  |\u001b[0m SM_INPUT_CONFIG_DIR=/opt/ml/input/config\n",
      "\u001b[36malgo-1-24lds_1  |\u001b[0m SM_HP_EPOCHS=1\n",
      "\u001b[36malgo-1-24lds_1  |\u001b[0m SM_CHANNEL_TRAINING=/opt/ml/input/data/training\n",
      "\u001b[36malgo-1-24lds_1  |\u001b[0m SM_MODEL_DIR=/opt/ml/model\n",
      "\u001b[36malgo-1-24lds_1  |\u001b[0m SM_TRAINING_ENV={\"additional_framework_parameters\":{},\"channel_input_dirs\":{\"training\":\"/opt/ml/input/data/training\"},\"current_host\":\"algo-1-24lds\",\"framework_module\":\"sagemaker_pytorch_container.training:main\",\"hosts\":[\"algo-1-24lds\"],\"hyperparameters\":{\"epochs\":1},\"input_config_dir\":\"/opt/ml/input/config\",\"input_data_config\":{\"training\":{\"TrainingInputMode\":\"File\"}},\"input_dir\":\"/opt/ml/input\",\"job_name\":\"pytorch-extending-our-containers-cifar1-2019-09-11-19-00-43-009\",\"log_level\":20,\"model_dir\":\"/opt/ml/model\",\"module_dir\":\"/opt/ml/code\",\"module_name\":\"cifar10\",\"network_interface_name\":\"ethwe\",\"num_cpus\":32,\"num_gpus\":0,\"output_data_dir\":\"/opt/ml/output/data\",\"output_dir\":\"/opt/ml/output\",\"output_intermediate_dir\":\"/opt/ml/output/intermediate\",\"resource_config\":{\"current_host\":\"algo-1-24lds\",\"hosts\":[\"algo-1-24lds\"]},\"user_entry_point\":\"cifar10.py\"}\n",
      "\u001b[36malgo-1-24lds_1  |\u001b[0m SM_OUTPUT_DIR=/opt/ml/output\n",
      "\u001b[36malgo-1-24lds_1  |\u001b[0m SM_USER_ENTRY_POINT=cifar10.py\n",
      "\u001b[36malgo-1-24lds_1  |\u001b[0m SM_MODULE_NAME=cifar10\n",
      "\u001b[36malgo-1-24lds_1  |\u001b[0m SM_OUTPUT_DATA_DIR=/opt/ml/output/data\n",
      "\u001b[36malgo-1-24lds_1  |\u001b[0m SM_HPS={\"epochs\":1}\n",
      "\u001b[36malgo-1-24lds_1  |\u001b[0m SM_LOG_LEVEL=20\n",
      "\u001b[36malgo-1-24lds_1  |\u001b[0m SM_INPUT_DATA_CONFIG={\"training\":{\"TrainingInputMode\":\"File\"}}\n",
      "\u001b[36malgo-1-24lds_1  |\u001b[0m SM_CHANNELS=[\"training\"]\n",
      "\u001b[36malgo-1-24lds_1  |\u001b[0m SM_INPUT_DIR=/opt/ml/input\n",
      "\u001b[36malgo-1-24lds_1  |\u001b[0m SM_FRAMEWORK_PARAMS={}\n",
      "\u001b[36malgo-1-24lds_1  |\u001b[0m PYTHONPATH=/usr/local/bin:/usr/lib/python35.zip:/usr/lib/python3.5:/usr/lib/python3.5/plat-x86_64-linux-gnu:/usr/lib/python3.5/lib-dynload:/usr/local/lib/python3.5/dist-packages:/usr/lib/python3/dist-packages\n",
      "\u001b[36malgo-1-24lds_1  |\u001b[0m SM_MODULE_DIR=/opt/ml/code\n",
      "\u001b[36malgo-1-24lds_1  |\u001b[0m SM_HOSTS=[\"algo-1-24lds\"]\n",
      "\u001b[36malgo-1-24lds_1  |\u001b[0m SM_RESOURCE_CONFIG={\"current_host\":\"algo-1-24lds\",\"hosts\":[\"algo-1-24lds\"]}\n",
      "\u001b[36malgo-1-24lds_1  |\u001b[0m SM_CURRENT_HOST=algo-1-24lds\n",
      "\u001b[36malgo-1-24lds_1  |\u001b[0m SM_NUM_GPUS=0\n",
      "\u001b[36malgo-1-24lds_1  |\u001b[0m SM_FRAMEWORK_MODULE=sagemaker_pytorch_container.training:main\n",
      "\u001b[36malgo-1-24lds_1  |\u001b[0m \n",
      "\u001b[36malgo-1-24lds_1  |\u001b[0m Invoking script with the following command:\n",
      "\u001b[36malgo-1-24lds_1  |\u001b[0m \n",
      "\u001b[36malgo-1-24lds_1  |\u001b[0m /usr/bin/python -m cifar10 --epochs 1\n",
      "\u001b[36malgo-1-24lds_1  |\u001b[0m \n",
      "\u001b[36malgo-1-24lds_1  |\u001b[0m \n",
      "\u001b[36malgo-1-24lds_1  |\u001b[0m [1,  2000] loss: 2.239\n",
      "\u001b[36malgo-1-24lds_1  |\u001b[0m [1,  4000] loss: 1.917\n",
      "\u001b[36malgo-1-24lds_1  |\u001b[0m [1,  6000] loss: 1.695\n",
      "\u001b[36malgo-1-24lds_1  |\u001b[0m [1,  8000] loss: 1.591\n",
      "\u001b[36malgo-1-24lds_1  |\u001b[0m [1, 10000] loss: 1.524\n",
      "\u001b[36malgo-1-24lds_1  |\u001b[0m [1, 12000] loss: 1.448\n",
      "\u001b[36malgo-1-24lds_1  |\u001b[0m Finished Training\n",
      "\u001b[36malgo-1-24lds_1  |\u001b[0m 2019-09-11 19:02:26,338 sagemaker-containers INFO     Reporting training SUCCESS\n",
      "\u001b[36mtmpqirbxi7n_algo-1-24lds_1 exited with code 0\n",
      "\u001b[0mAborting on container exit...\n",
      "===== Job Complete =====\n",
      "Attaching to tmpxenffrt5_algo-1-zecgt_1\n",
      "\u001b[36malgo-1-zecgt_1  |\u001b[0m [2019-09-11 19:02:29 +0000] [47] [INFO] Starting gunicorn 19.9.0\n",
      "\u001b[36malgo-1-zecgt_1  |\u001b[0m [2019-09-11 19:02:29 +0000] [47] [INFO] Listening at: unix:/tmp/gunicorn.sock (47)\n",
      "\u001b[36malgo-1-zecgt_1  |\u001b[0m [2019-09-11 19:02:29 +0000] [47] [INFO] Using worker: gevent\n",
      "\u001b[36malgo-1-zecgt_1  |\u001b[0m [2019-09-11 19:02:29 +0000] [82] [INFO] Booting worker with pid: 82\n",
      "\u001b[36malgo-1-zecgt_1  |\u001b[0m [2019-09-11 19:02:29 +0000] [83] [INFO] Booting worker with pid: 83\n",
      "\u001b[36malgo-1-zecgt_1  |\u001b[0m [2019-09-11 19:02:29 +0000] [115] [INFO] Booting worker with pid: 115\n",
      "\u001b[36malgo-1-zecgt_1  |\u001b[0m [2019-09-11 19:02:29 +0000] [116] [INFO] Booting worker with pid: 116\n"
     ]
    },
    {
     "name": "stdout",
     "output_type": "stream",
     "text": [
      "\u001b[36malgo-1-zecgt_1  |\u001b[0m [2019-09-11 19:02:29 +0000] [148] [INFO] Booting worker with pid: 148\n",
      "\u001b[36malgo-1-zecgt_1  |\u001b[0m [2019-09-11 19:02:29 +0000] [149] [INFO] Booting worker with pid: 149\n",
      "\u001b[36malgo-1-zecgt_1  |\u001b[0m [2019-09-11 19:02:29 +0000] [181] [INFO] Booting worker with pid: 181\n",
      "\u001b[36malgo-1-zecgt_1  |\u001b[0m [2019-09-11 19:02:29 +0000] [213] [INFO] Booting worker with pid: 213\n",
      "\u001b[36malgo-1-zecgt_1  |\u001b[0m [2019-09-11 19:02:29 +0000] [276] [INFO] Booting worker with pid: 276\n",
      "\u001b[36malgo-1-zecgt_1  |\u001b[0m [2019-09-11 19:02:29 +0000] [308] [INFO] Booting worker with pid: 308\n",
      "\u001b[36malgo-1-zecgt_1  |\u001b[0m [2019-09-11 19:02:29 +0000] [309] [INFO] Booting worker with pid: 309\n",
      "\u001b[36malgo-1-zecgt_1  |\u001b[0m [2019-09-11 19:02:29 +0000] [310] [INFO] Booting worker with pid: 310\n",
      "\u001b[36malgo-1-zecgt_1  |\u001b[0m [2019-09-11 19:02:29 +0000] [342] [INFO] Booting worker with pid: 342\n",
      "\u001b[36malgo-1-zecgt_1  |\u001b[0m [2019-09-11 19:02:30 +0000] [436] [INFO] Booting worker with pid: 436\n",
      "\u001b[36malgo-1-zecgt_1  |\u001b[0m [2019-09-11 19:02:30 +0000] [468] [INFO] Booting worker with pid: 468\n",
      "\u001b[36malgo-1-zecgt_1  |\u001b[0m [2019-09-11 19:02:30 +0000] [469] [INFO] Booting worker with pid: 469\n",
      "\u001b[36malgo-1-zecgt_1  |\u001b[0m [2019-09-11 19:02:30 +0000] [502] [INFO] Booting worker with pid: 502\n",
      "\u001b[36malgo-1-zecgt_1  |\u001b[0m [2019-09-11 19:02:30 +0000] [535] [INFO] Booting worker with pid: 535\n",
      "\u001b[36malgo-1-zecgt_1  |\u001b[0m [2019-09-11 19:02:30 +0000] [536] [INFO] Booting worker with pid: 536\n",
      "\u001b[36malgo-1-zecgt_1  |\u001b[0m [2019-09-11 19:02:30 +0000] [537] [INFO] Booting worker with pid: 537\n",
      "\u001b[36malgo-1-zecgt_1  |\u001b[0m [2019-09-11 19:02:30 +0000] [600] [INFO] Booting worker with pid: 600\n",
      "\u001b[36malgo-1-zecgt_1  |\u001b[0m [2019-09-11 19:02:30 +0000] [601] [INFO] Booting worker with pid: 601\n",
      "\u001b[36malgo-1-zecgt_1  |\u001b[0m [2019-09-11 19:02:30 +0000] [633] [INFO] Booting worker with pid: 633\n",
      "\u001b[36malgo-1-zecgt_1  |\u001b[0m [2019-09-11 19:02:30 +0000] [634] [INFO] Booting worker with pid: 634\n",
      "\u001b[36malgo-1-zecgt_1  |\u001b[0m [2019-09-11 19:02:30 +0000] [666] [INFO] Booting worker with pid: 666\n",
      "\u001b[36malgo-1-zecgt_1  |\u001b[0m [2019-09-11 19:02:30 +0000] [698] [INFO] Booting worker with pid: 698\n",
      "\u001b[36malgo-1-zecgt_1  |\u001b[0m [2019-09-11 19:02:30 +0000] [731] [INFO] Booting worker with pid: 731\n",
      "\u001b[36malgo-1-zecgt_1  |\u001b[0m [2019-09-11 19:02:30 +0000] [829] [INFO] Booting worker with pid: 829\n",
      "\u001b[36malgo-1-zecgt_1  |\u001b[0m [2019-09-11 19:02:30 +0000] [833] [INFO] Booting worker with pid: 833\n",
      "\u001b[36malgo-1-zecgt_1  |\u001b[0m [2019-09-11 19:02:30 +0000] [865] [INFO] Booting worker with pid: 865\n",
      "\u001b[36malgo-1-zecgt_1  |\u001b[0m [2019-09-11 19:02:30 +0000] [930] [INFO] Booting worker with pid: 930\n",
      "\u001b[36malgo-1-zecgt_1  |\u001b[0m [2019-09-11 19:02:30 +0000] [931] [INFO] Booting worker with pid: 931\n",
      "\u001b[36malgo-1-zecgt_1  |\u001b[0m Processing /opt/ml/code\n",
      "\u001b[36malgo-1-zecgt_1  |\u001b[0m Building wheels for collected packages: cifar10\n",
      "\u001b[36malgo-1-zecgt_1  |\u001b[0m   Running setup.py bdist_wheel for cifar10 ... \u001b[?25ldone\n",
      "\u001b[36malgo-1-zecgt_1  |\u001b[0m \u001b[?25h  Stored in directory: /tmp/pip-ephem-wheel-cache-5zcmciv3/wheels/35/24/16/37574d11bf9bde50616c67372a334f94fa8356bc7164af8ca3\n",
      "\u001b[36malgo-1-zecgt_1  |\u001b[0m Successfully built cifar10\n",
      "\u001b[36malgo-1-zecgt_1  |\u001b[0m Installing collected packages: cifar10\n",
      "\u001b[36malgo-1-zecgt_1  |\u001b[0m Successfully installed cifar10-1.0.0\n",
      "\u001b[36malgo-1-zecgt_1  |\u001b[0m \u001b[33mYou are using pip version 18.1, however version 19.2.3 is available.\n",
      "\u001b[36malgo-1-zecgt_1  |\u001b[0m You should consider upgrading via the 'pip install --upgrade pip' command.\u001b[0m\n",
      "!\u001b[36malgo-1-zecgt_1  |\u001b[0m 172.18.0.1 - - [11/Sep/2019:19:02:33 +0000] \"GET /ping HTTP/1.1\" 200 0 \"-\" \"-\"\n"
     ]
    }
   ],
   "source": [
    "from sagemaker.estimator import Estimator\n",
    "\n",
    "hyperparameters = {'epochs': 1}\n",
    "\n",
    "estimator = Estimator(role=role,\n",
    "                      train_instance_count=1,\n",
    "                      train_instance_type=instance_type,\n",
    "                      image_name='pytorch-extending-our-containers-cifar10-example:latest',\n",
    "                      hyperparameters=hyperparameters)\n",
    "\n",
    "estimator.fit('file:///tmp/pytorch-example/cifar-10-data')\n",
    "\n",
    "predictor = estimator.deploy(1, instance_type)"
   ]
  },
  {
   "cell_type": "markdown",
   "metadata": {},
   "source": [
    "## Making predictions using Python SDK\n",
    "\n",
    "To make predictions, we will use a few images, from the test loader, converted into a json format to send as an inference request.\n",
    "\n",
    "The reponse will be tensors containing the probabilities of each image belonging to one of the 10 classes. Based on the highest probability we will map that index to the corresponding class in our output. The classes can be referenced from the [CIFAR-10 website](https://www.cs.toronto.edu/~kriz/cifar.html). Since we didn't train the model for that long, we aren't expecting very accurate results."
   ]
  },
  {
   "cell_type": "code",
   "execution_count": 8,
   "metadata": {},
   "outputs": [
    {
     "name": "stdout",
     "output_type": "stream",
     "text": [
      "GroundTruth:   cat ship ship plane\n",
      "\u001b[36malgo-1-zecgt_1  |\u001b[0m Processing /opt/ml/code\n",
      "\u001b[36malgo-1-zecgt_1  |\u001b[0m Building wheels for collected packages: cifar10\n",
      "\u001b[36malgo-1-zecgt_1  |\u001b[0m   Running setup.py bdist_wheel for cifar10 ... \u001b[?25ldone\n",
      "\u001b[36malgo-1-zecgt_1  |\u001b[0m \u001b[?25h  Stored in directory: /tmp/pip-ephem-wheel-cache-86_vrcy6/wheels/35/24/16/37574d11bf9bde50616c67372a334f94fa8356bc7164af8ca3\n",
      "\u001b[36malgo-1-zecgt_1  |\u001b[0m Successfully built cifar10\n",
      "\u001b[36malgo-1-zecgt_1  |\u001b[0m Installing collected packages: cifar10\n",
      "\u001b[36malgo-1-zecgt_1  |\u001b[0m   Found existing installation: cifar10 1.0.0\n",
      "\u001b[36malgo-1-zecgt_1  |\u001b[0m     Uninstalling cifar10-1.0.0:\n",
      "\u001b[36malgo-1-zecgt_1  |\u001b[0m       Successfully uninstalled cifar10-1.0.0\n",
      "\u001b[36malgo-1-zecgt_1  |\u001b[0m Successfully installed cifar10-1.0.0\n",
      "\u001b[36malgo-1-zecgt_1  |\u001b[0m \u001b[33mYou are using pip version 18.1, however version 19.2.3 is available.\n",
      "\u001b[36malgo-1-zecgt_1  |\u001b[0m You should consider upgrading via the 'pip install --upgrade pip' command.\u001b[0m\n",
      "\u001b[36malgo-1-zecgt_1  |\u001b[0m 172.18.0.1 - - [11/Sep/2019:19:04:07 +0000] \"POST /invocations HTTP/1.1\" 200 816 \"-\" \"-\"\n",
      "Predicted:   cat ship  car ship\n"
     ]
    },
    {
     "data": {
      "image/png": "[encoded data removed]",
      "text/plain": [
       "<Figure size 432x288 with 1 Axes>"
      ]
     },
     "metadata": {},
     "output_type": "display_data"
    }
   ],
   "source": [
    "import torchvision, torch\n",
    "import numpy as np\n",
    "\n",
    "from sagemaker.predictor import json_serializer, json_deserializer\n",
    "\n",
    "# get some test images\n",
    "dataiter = iter(testloader)\n",
    "images, labels = dataiter.next()\n",
    "\n",
    "# print images\n",
    "imshow(torchvision.utils.make_grid(images))\n",
    "print('GroundTruth: ', ' '.join('%4s' % classes[labels[j]] for j in range(4)))\n",
    "\n",
    "predictor.accept = 'application/json'\n",
    "predictor.content_type = 'application/json'\n",
    "\n",
    "predictor.serializer = json_serializer\n",
    "predictor.deserializer = json_deserializer\n",
    "\n",
    "outputs = predictor.predict(images.numpy())\n",
    "\n",
    "_, predicted = torch.max(torch.from_numpy(np.array(outputs)), 1)\n",
    "\n",
    "print('Predicted: ', ' '.join('%4s' % classes[predicted[j]]\n",
    "                              for j in range(4)))"
   ]
  },
  {
   "cell_type": "code",
   "execution_count": 9,
   "metadata": {},
   "outputs": [
    {
     "name": "stdout",
     "output_type": "stream",
     "text": [
      "Gracefully stopping... (press Ctrl+C again to force)\n"
     ]
    }
   ],
   "source": [
    "predictor.delete_endpoint()"
   ]
  },
  {
   "cell_type": "markdown",
   "metadata": {},
   "source": [
    "# Part 2: Training and Hosting your Algorithm in Amazon SageMaker\n",
    "Once you have your container packaged, you can use it to train and serve models. Let's do that with the algorithm we made above.\n",
    "\n",
    "## Set up the environment\n",
    "Here we specify the bucket to use and the role that is used for working with SageMaker."
   ]
  },
  {
   "cell_type": "code",
   "execution_count": 10,
   "metadata": {},
   "outputs": [],
   "source": [
    "# S3 prefix\n",
    "prefix = 'DEMO-pytorch-cifar10'"
   ]
  },
  {
   "cell_type": "markdown",
   "metadata": {},
   "source": [
    "## Create the session\n",
    "\n",
    "The session remembers our connection parameters to SageMaker. We use it to perform all of our SageMaker operations."
   ]
  },
  {
   "cell_type": "code",
   "execution_count": 11,
   "metadata": {},
   "outputs": [],
   "source": [
    "import sagemaker as sage\n",
    "\n",
    "sess = sage.Session()"
   ]
  },
  {
   "cell_type": "markdown",
   "metadata": {},
   "source": [
    "## Upload the data for training\n",
    "\n",
    "We will use the tools provided by the SageMaker Python SDK to upload the data to a default bucket."
   ]
  },
  {
   "cell_type": "code",
   "execution_count": 12,
   "metadata": {},
   "outputs": [],
   "source": [
    "WORK_DIRECTORY = '/tmp/pytorch-example/cifar-10-data'\n",
    "\n",
    "data_location = sess.upload_data(WORK_DIRECTORY, key_prefix=prefix)"
   ]
  },
  {
   "cell_type": "markdown",
   "metadata": {},
   "source": [
    "## Training on SageMaker\n",
    "Training a model on SageMaker with the Python SDK is done in a way that is similar to the way we trained it locally. This is done by changing our train_instance_type from `local` to one of our [supported EC2 instance types](https://aws.amazon.com/sagemaker/pricing/instance-types/).\n",
    "\n",
    "In addition, we must now specify the ECR image URL, which we just pushed above.\n",
    "\n",
    "Finally, our local training dataset has to be in Amazon S3 and the S3 URL to our dataset is passed into the `fit()` call.\n",
    "\n",
    "Let's first fetch our ECR image url that corresponds to the image we just built and pushed."
   ]
  },
  {
   "cell_type": "code",
   "execution_count": 13,
   "metadata": {},
   "outputs": [
    {
     "name": "stdout",
     "output_type": "stream",
     "text": [
      "517600888691.dkr.ecr.us-east-1.amazonaws.com/pytorch-extending-our-containers-cifar10-example:latest\n"
     ]
    }
   ],
   "source": [
    "import boto3\n",
    "\n",
    "client = boto3.client('sts')\n",
    "account = client.get_caller_identity()['Account']\n",
    "\n",
    "my_session = boto3.session.Session()\n",
    "region = my_session.region_name\n",
    "\n",
    "algorithm_name = 'pytorch-extending-our-containers-cifar10-example'\n",
    "\n",
    "ecr_image = '{}.dkr.ecr.{}.amazonaws.com/{}:latest'.format(account, region, algorithm_name)\n",
    "\n",
    "print(ecr_image)"
   ]
  },
  {
   "cell_type": "code",
   "execution_count": null,
   "metadata": {},
   "outputs": [
    {
     "name": "stdout",
     "output_type": "stream",
     "text": [
      "2019-09-11 19:05:59 Starting - Starting the training job...\n",
      "2019-09-11 19:06:11 Starting - Launching requested ML instances......\n",
      "2019-09-11 19:07:13 Starting - Preparing the instances for training......\n",
      "2019-09-11 19:08:19 Downloading - Downloading input data.."
     ]
    }
   ],
   "source": [
    "from sagemaker.estimator import Estimator\n",
    "\n",
    "hyperparameters = {'epochs': 1}\n",
    "\n",
    "instance_type = 'ml.m4.xlarge'\n",
    "\n",
    "estimator = Estimator(role=role,\n",
    "                      train_instance_count=1,\n",
    "                      train_instance_type=instance_type,\n",
    "                      image_name=ecr_image,\n",
    "                      hyperparameters=hyperparameters)\n",
    "\n",
    "estimator.fit(data_location)\n",
    "\n",
    "predictor = estimator.deploy(1, instance_type)"
   ]
  },
  {
   "cell_type": "code",
   "execution_count": null,
   "metadata": {},
   "outputs": [],
   "source": [
    "# get some test images\n",
    "dataiter = iter(testloader)\n",
    "images, labels = dataiter.next()\n",
    "\n",
    "# print images\n",
    "imshow(torchvision.utils.make_grid(images))\n",
    "print('GroundTruth: ', ' '.join('%4s' % classes[labels[j]] for j in range(4)))\n",
    "\n",
    "predictor.accept = 'application/json'\n",
    "predictor.content_type = 'application/json'\n",
    "\n",
    "predictor.serializer = json_serializer\n",
    "predictor.deserializer = json_deserializer\n",
    "\n",
    "outputs = predictor.predict(images.numpy())\n",
    "\n",
    "_, predicted = torch.max(torch.from_numpy(np.array(outputs)), 1)\n",
    "\n",
    "print('Predicted: ', ' '.join('%4s' % classes[predicted[j]]\n",
    "                              for j in range(4)))"
   ]
  },
  {
   "cell_type": "markdown",
   "metadata": {},
   "source": [
    "## Optional cleanup\n",
    "When you're done with the endpoint, you should clean it up.\n",
    "\n",
    "All of the training jobs, models and endpoints we created can be viewed through the SageMaker console of your AWS account."
   ]
  },
  {
   "cell_type": "code",
   "execution_count": null,
   "metadata": {},
   "outputs": [],
   "source": [
    "predictor.delete_endpoint()"
   ]
  },
  {
   "cell_type": "markdown",
   "metadata": {},
   "source": [
    "# Reference\n",
    "- [How Amazon SageMaker interacts with your Docker container for training](https://docs.aws.amazon.com/sagemaker/latest/dg/your-algorithms-training-algo.html)\n",
    "- [How Amazon SageMaker interacts with your Docker container for inference](https://docs.aws.amazon.com/sagemaker/latest/dg/your-algorithms-inference-code.html)\n",
    "- [CIFAR-10 Dataset](https://www.cs.toronto.edu/~kriz/cifar.html)\n",
    "- [SageMaker Python SDK](https://github.com/aws/sagemaker-python-sdk)\n",
    "- [Dockerfile](https://docs.docker.com/engine/reference/builder/)\n",
    "- [scikit-bring-your-own](https://github.com/awslabs/amazon-sagemaker-examples/blob/master/advanced_functionality/scikit_bring_your_own/scikit_bring_your_own.ipynb)\n",
    "- [SageMaker PyTorch container](https://github.com/aws/sagemaker-pytorch-container)"
   ]
  }
 ],
 "metadata": {
  "kernelspec": {
   "display_name": "conda_pytorch_p36",
   "language": "python",
   "name": "conda_pytorch_p36"
  },
  "language_info": {
   "codemirror_mode": {
    "name": "ipython",
    "version": 3
   },
   "file_extension": ".py",
   "mimetype": "text/x-python",
   "name": "python",
   "nbconvert_exporter": "python",
   "pygments_lexer": "ipython3",
   "version": "3.6.5"
  }
 },
 "nbformat": 4,
 "nbformat_minor": 2
}
