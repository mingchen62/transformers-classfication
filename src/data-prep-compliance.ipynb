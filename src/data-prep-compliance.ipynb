{
 "cells": [
  {
   "cell_type": "code",
   "execution_count": 1,
   "metadata": {},
   "outputs": [],
   "source": [
    "import pandas as pd\n",
    "import re\n",
    "from tqdm import tqdm_notebook\n",
    "\n",
    "prefix = '../data/'"
   ]
  },
  {
   "cell_type": "code",
   "execution_count": 2,
   "metadata": {},
   "outputs": [],
   "source": [
    "df_all = pd.read_csv(prefix +\"/spam_dataset_with_subject.csv\",index_col=0)\n"
   ]
  },
  {
   "cell_type": "code",
   "execution_count": 3,
   "metadata": {},
   "outputs": [],
   "source": [
    "df_all = df_all.drop_duplicates()\n",
    "df_all.isna().sum()\n",
    "df_all.dropna(subset=['text_in_img', 'text_in_html'], how='all', inplace = True)"
   ]
  },
  {
   "cell_type": "code",
   "execution_count": 4,
   "metadata": {},
   "outputs": [
    {
     "data": {
      "text/plain": [
       "(11182, 10)"
      ]
     },
     "execution_count": 4,
     "metadata": {},
     "output_type": "execute_result"
    }
   ],
   "source": [
    "df_all.shape"
   ]
  },
  {
   "cell_type": "code",
   "execution_count": 5,
   "metadata": {},
   "outputs": [],
   "source": [
    "df_all = df_all.fillna(\" \")\n"
   ]
  },
  {
   "cell_type": "code",
   "execution_count": 6,
   "metadata": {},
   "outputs": [
    {
     "data": {
      "text/html": [
       "<div>\n",
       "<style scoped>\n",
       "    .dataframe tbody tr th:only-of-type {\n",
       "        vertical-align: middle;\n",
       "    }\n",
       "\n",
       "    .dataframe tbody tr th {\n",
       "        vertical-align: top;\n",
       "    }\n",
       "\n",
       "    .dataframe thead th {\n",
       "        text-align: right;\n",
       "    }\n",
       "</style>\n",
       "<table border=\"1\" class=\"dataframe\">\n",
       "  <thead>\n",
       "    <tr style=\"text-align: right;\">\n",
       "      <th></th>\n",
       "      <th>index</th>\n",
       "      <th>account_id</th>\n",
       "      <th>agent_id</th>\n",
       "      <th>sender</th>\n",
       "      <th>text_in_html</th>\n",
       "      <th>text_in_img</th>\n",
       "      <th>img_text_ratio</th>\n",
       "      <th>label</th>\n",
       "      <th>id_pair</th>\n",
       "      <th>subject</th>\n",
       "    </tr>\n",
       "  </thead>\n",
       "  <tbody>\n",
       "    <tr>\n",
       "      <th>0</th>\n",
       "      <td>0</td>\n",
       "      <td>1129379786086</td>\n",
       "      <td>1132572860140</td>\n",
       "      <td>Wayside Recovery Center</td>\n",
       "      <td>RSVP Today and join us for a morning of empowe...</td>\n",
       "      <td></td>\n",
       "      <td>0.0</td>\n",
       "      <td>0</td>\n",
       "      <td>1129379786086,1132572860140</td>\n",
       "      <td>Only 3 weeks away! Empower ME Breakfast</td>\n",
       "    </tr>\n",
       "    <tr>\n",
       "      <th>1</th>\n",
       "      <td>1</td>\n",
       "      <td>1119086518675</td>\n",
       "      <td>1132430885433</td>\n",
       "      <td>Hemophilia Foundation of Greater Florida</td>\n",
       "      <td>Walk As Your Favorite Superhero CAN'T MAKE IT ...</td>\n",
       "      <td></td>\n",
       "      <td>0.0</td>\n",
       "      <td>0</td>\n",
       "      <td>1119086518675,1132430885433</td>\n",
       "      <td>Tampa Sunday Funday</td>\n",
       "    </tr>\n",
       "    <tr>\n",
       "      <th>2</th>\n",
       "      <td>2</td>\n",
       "      <td>1129108515095</td>\n",
       "      <td>1132943659666</td>\n",
       "      <td>Post and Courier</td>\n",
       "      <td>Good morning, here are your Clemson sports hea...</td>\n",
       "      <td></td>\n",
       "      <td>0.0</td>\n",
       "      <td>0</td>\n",
       "      <td>1129108515095,1132943659666</td>\n",
       "      <td>Clemson basketball team wins gold medal for US...</td>\n",
       "    </tr>\n",
       "    <tr>\n",
       "      <th>3</th>\n",
       "      <td>3</td>\n",
       "      <td>1129108515095</td>\n",
       "      <td>1132938328084</td>\n",
       "      <td>Post and Courier Advertising Partners</td>\n",
       "      <td>Carmella's advanced in 5 Charleston's Choice c...</td>\n",
       "      <td></td>\n",
       "      <td>0.0</td>\n",
       "      <td>0</td>\n",
       "      <td>1129108515095,1132938328084</td>\n",
       "      <td>Indulge your sweet tooth. Vote for Carmella's</td>\n",
       "    </tr>\n",
       "    <tr>\n",
       "      <th>4</th>\n",
       "      <td>4</td>\n",
       "      <td>1103447982417</td>\n",
       "      <td>1132525777889</td>\n",
       "      <td>Bravo Troy Ohio</td>\n",
       "      <td>Easter Brunch Santa Claus doesn't hold a candl...</td>\n",
       "      <td></td>\n",
       "      <td>0.0</td>\n",
       "      <td>0</td>\n",
       "      <td>1103447982417,1132525777889</td>\n",
       "      <td>The GOOD NEWS of Troy, Ohio - 4/21/2019</td>\n",
       "    </tr>\n",
       "  </tbody>\n",
       "</table>\n",
       "</div>"
      ],
      "text/plain": [
       "   index     account_id       agent_id  \\\n",
       "0      0  1129379786086  1132572860140   \n",
       "1      1  1119086518675  1132430885433   \n",
       "2      2  1129108515095  1132943659666   \n",
       "3      3  1129108515095  1132938328084   \n",
       "4      4  1103447982417  1132525777889   \n",
       "\n",
       "                                     sender  \\\n",
       "0                   Wayside Recovery Center   \n",
       "1  Hemophilia Foundation of Greater Florida   \n",
       "2                          Post and Courier   \n",
       "3     Post and Courier Advertising Partners   \n",
       "4                           Bravo Troy Ohio   \n",
       "\n",
       "                                        text_in_html text_in_img  \\\n",
       "0  RSVP Today and join us for a morning of empowe...               \n",
       "1  Walk As Your Favorite Superhero CAN'T MAKE IT ...               \n",
       "2  Good morning, here are your Clemson sports hea...               \n",
       "3  Carmella's advanced in 5 Charleston's Choice c...               \n",
       "4  Easter Brunch Santa Claus doesn't hold a candl...               \n",
       "\n",
       "   img_text_ratio  label                      id_pair  \\\n",
       "0             0.0      0  1129379786086,1132572860140   \n",
       "1             0.0      0  1119086518675,1132430885433   \n",
       "2             0.0      0  1129108515095,1132943659666   \n",
       "3             0.0      0  1129108515095,1132938328084   \n",
       "4             0.0      0  1103447982417,1132525777889   \n",
       "\n",
       "                                             subject  \n",
       "0            Only 3 weeks away! Empower ME Breakfast  \n",
       "1                                Tampa Sunday Funday  \n",
       "2  Clemson basketball team wins gold medal for US...  \n",
       "3      Indulge your sweet tooth. Vote for Carmella's  \n",
       "4            The GOOD NEWS of Troy, Ohio - 4/21/2019  "
      ]
     },
     "execution_count": 6,
     "metadata": {},
     "output_type": "execute_result"
    }
   ],
   "source": [
    "df_all.head()"
   ]
  },
  {
   "cell_type": "code",
   "execution_count": 7,
   "metadata": {},
   "outputs": [
    {
     "data": {
      "text/plain": [
       "0                  Only 3 weeks away! Empower ME Breakfast\n",
       "1                                      Tampa Sunday Funday\n",
       "2        Clemson basketball team wins gold medal for US...\n",
       "3            Indulge your sweet tooth. Vote for Carmella's\n",
       "4                  The GOOD NEWS of Troy, Ohio - 4/21/2019\n",
       "5                  MORE GOOD NEWS of Troy, Ohio - 7/7/2019\n",
       "6           AUCTION-Register Now For Litz Crane & Rigging!\n",
       "7        How to Lower Your Risk of Having More Breakout...\n",
       "8        Psyche Institute, Rainbow Reiki Training, Pet ...\n",
       "9                               July - Employee Newsletter\n",
       "12                                                Reminder\n",
       "13       The latest news for you about Field Trip & Kon...\n",
       "14             One big boy moves out, a big girl moves in!\n",
       "15            2019 Mid-Year Market Outlook Conference Call\n",
       "16            Alcatel-Lucent 8058s IP Phone Price Decrease\n",
       "17                Email Exclusive: Christmas in July Sale!\n",
       "18       Is dirt bike insurance the same as motorcycle ...\n",
       "19       Sorry We Missed You at the Oklahoma Medical Ma...\n",
       "20                 Land Use Worthington Workshop Follow-Up\n",
       "21                                    Fish & Loaves Appeal\n",
       "22       Lowcountry Food Bank's 2019 Summer Meals Progr...\n",
       "23       Brazil: Flights Canceled at Viracopos Internat...\n",
       "24                         Enbridge in Minnesota this Week\n",
       "25                           So soft, so comfy, so cute! 💕\n",
       "26                                What heals your body? 😂😁\n",
       "27                               Humanizing Justice & More\n",
       "28       Learjet 60 Availability > 17-23APR FROM LEPA, ...\n",
       "29                Reminder: Too Good to Melt Sale Part 2!!\n",
       "30       Palmgren Managed Inventory Event  from Ken Wal...\n",
       "31                             Pick your match play winner\n",
       "                               ...                        \n",
       "11212                              Mise à jour de sécurité\n",
       "11213                              The latest news for you\n",
       "11214                                  Account Deactivated\n",
       "11215                              The latest news for you\n",
       "11216                           Paypal has been Restricted\n",
       "11217                              The latest news for you\n",
       "11218         RE: The latest news for you from Colostadept\n",
       "11219                                      Renewal failure\n",
       "11220                              The latest news for you\n",
       "11221                                              您的工作邀请函\n",
       "11222                                                  614\n",
       "11223    Auto-Renewal has failed permanently, your acco...\n",
       "11224                              The latest news for you\n",
       "11225                              The latest news for you\n",
       "11226                              The latest news for you\n",
       "11227                              The latest news for you\n",
       "11228                              The latest news for you\n",
       "11229                              The latest news for you\n",
       "11230                              The latest news for you\n",
       "11231                              The latest news for you\n",
       "11232                              The latest news for you\n",
       "11233                              The latest news for you\n",
       "11234                              The latest news for you\n",
       "11235                              The latest news for you\n",
       "11236                                                潮鞋专柜货\n",
       "11237                                                潮鞋专柜货\n",
       "11238                              The latest news for you\n",
       "11239                              The latest news for you\n",
       "11240                              The latest news for you\n",
       "11241                              The latest news for you\n",
       "Name: subject, Length: 11182, dtype: object"
      ]
     },
     "execution_count": 7,
     "metadata": {},
     "output_type": "execute_result"
    }
   ],
   "source": [
    "df_all['subject'] "
   ]
  },
  {
   "cell_type": "code",
   "execution_count": 8,
   "metadata": {},
   "outputs": [],
   "source": [
    "\n",
    "df_bert = pd.DataFrame({\n",
    "    'id':range(len(df_all)),\n",
    "    'label':df_all['label'],\n",
    "    'alpha':['a']*df_all.shape[0],\n",
    "    'text': df_all['subject'] +' '+ df_all['text_in_html'] +' '+ df_all['text_in_img']\n",
    "})"
   ]
  },
  {
   "cell_type": "code",
   "execution_count": 9,
   "metadata": {},
   "outputs": [],
   "source": [
    "def string_preprocess(r,c):\n",
    "    s= re.sub('\\s+', ' ', r[c]).strip()\n",
    "    if len(s) == 0:\n",
    "        return \"\"\n",
    "    return s\n",
    "\n",
    "df_bert['text'] = df_bert.apply (lambda row: string_preprocess(row,'text'), axis=1)\n"
   ]
  },
  {
   "cell_type": "code",
   "execution_count": 10,
   "metadata": {},
   "outputs": [
    {
     "data": {
      "text/plain": [
       "id       0\n",
       "label    0\n",
       "alpha    0\n",
       "text     0\n",
       "dtype: int64"
      ]
     },
     "execution_count": 10,
     "metadata": {},
     "output_type": "execute_result"
    }
   ],
   "source": [
    "df_bert.isna().sum()"
   ]
  },
  {
   "cell_type": "code",
   "execution_count": 11,
   "metadata": {},
   "outputs": [
    {
     "data": {
      "text/plain": [
       "(11182, 4)"
      ]
     },
     "execution_count": 11,
     "metadata": {},
     "output_type": "execute_result"
    }
   ],
   "source": [
    "df_bert.shape"
   ]
  },
  {
   "cell_type": "code",
   "execution_count": 12,
   "metadata": {},
   "outputs": [],
   "source": [
    "pd.set_option('display.width', 1000)\n",
    "pd.set_option('display.expand_frame_repr', False)\n"
   ]
  },
  {
   "cell_type": "code",
   "execution_count": 13,
   "metadata": {},
   "outputs": [
    {
     "data": {
      "text/plain": [
       "0        Only 3 weeks away! Empower ME Breakfast RSVP T...\n",
       "1        Tampa Sunday Funday Walk As Your Favorite Supe...\n",
       "2        Clemson basketball team wins gold medal for US...\n",
       "3        Indulge your sweet tooth. Vote for Carmella's ...\n",
       "4        The GOOD NEWS of Troy, Ohio - 4/21/2019 Easter...\n",
       "5        MORE GOOD NEWS of Troy, Ohio - 7/7/2019 Corky ...\n",
       "6        AUCTION-Register Now For Litz Crane & Rigging!...\n",
       "7        How to Lower Your Risk of Having More Breakout...\n",
       "8        Psyche Institute, Rainbow Reiki Training, Pet ...\n",
       "9        July - Employee Newsletter Employee of the Mon...\n",
       "12       Reminder Camp Hours Reminder : Summer Camp Hou...\n",
       "13       The latest news for you about Field Trip & Kon...\n",
       "14       One big boy moves out, a big girl moves in! Mo...\n",
       "15       2019 Mid-Year Market Outlook Conference Call M...\n",
       "16       Alcatel-Lucent 8058s IP Phone Price Decrease 8...\n",
       "17       Email Exclusive: Christmas in July Sale! Super...\n",
       "18       Is dirt bike insurance the same as motorcycle ...\n",
       "19       Sorry We Missed You at the Oklahoma Medical Ma...\n",
       "20       Land Use Worthington Workshop Follow-Up Thanks...\n",
       "21       Fish & Loaves Appeal Winter 2019 Dear Friends,...\n",
       "22       Lowcountry Food Bank's 2019 Summer Meals Progr...\n",
       "23       Brazil: Flights Canceled at Viracopos Internat...\n",
       "24       Enbridge in Minnesota this Week Home | Line 3 ...\n",
       "25       So soft, so comfy, so cute! 💕 pre-order now! ‌...\n",
       "26       What heals your body? 😂😁 You have to read this...\n",
       "27       Humanizing Justice & More E-News April 2019 In...\n",
       "28       Learjet 60 Availability > 17-23APR FROM LEPA, ...\n",
       "29       Reminder: Too Good to Melt Sale Part 2!! Last ...\n",
       "30       Palmgren Managed Inventory Event from Ken Walt...\n",
       "31       Pick your match play winner Pick your match pl...\n",
       "                               ...                        \n",
       "11212    Mise à jour de sécurité un problème avec ce ma...\n",
       "11213    The latest news for you You don't want to miss...\n",
       "11214    Account Deactivated Credit Card Problem UPDATE...\n",
       "11215    The latest news for you You don't want to miss...\n",
       "11216    Paypal has been Restricted Your Paypal has bee...\n",
       "11217    The latest news for you You don't want to miss...\n",
       "11218    RE: The latest news for you from Colostadept Y...\n",
       "11219         Renewal failure Hello [[EMAILADDRESS OR \"\"]]\n",
       "11220    The latest news for you You don't want to miss...\n",
       "11221               您的工作邀请函 You don't want to miss this. ‌\n",
       "11222                                                614 ‌\n",
       "11223    Auto-Renewal has failed permanently, your acco...\n",
       "11224    The latest news for you You don't want to miss...\n",
       "11225    The latest news for you You don't want to miss...\n",
       "11226    The latest news for you You don't want to miss...\n",
       "11227    The latest news for you You don't want to miss...\n",
       "11228    The latest news for you You don't want to miss...\n",
       "11229    The latest news for you You don't want to miss...\n",
       "11230    The latest news for you You don't want to miss...\n",
       "11231    The latest news for you You don't want to miss...\n",
       "11232    The latest news for you You don't want to miss...\n",
       "11233    The latest news for you You don't want to miss...\n",
       "11234    The latest news for you You don't want to miss...\n",
       "11235    The latest news for you You don't want to miss...\n",
       "11236                   潮鞋专柜货 You don't want to miss this.\n",
       "11237                   潮鞋专柜货 You don't want to miss this.\n",
       "11238    The latest news for you You don't want to miss...\n",
       "11239    The latest news for you You don't want to miss...\n",
       "11240    The latest news for you You don't want to miss...\n",
       "11241    The latest news for you You don't want to miss...\n",
       "Name: text, Length: 11182, dtype: object"
      ]
     },
     "execution_count": 13,
     "metadata": {},
     "output_type": "execute_result"
    }
   ],
   "source": [
    "df_bert['text']\n"
   ]
  },
  {
   "cell_type": "code",
   "execution_count": 14,
   "metadata": {},
   "outputs": [],
   "source": [
    "X = df_bert[['id','alpha','text']]\n",
    "y = df_bert['label']"
   ]
  },
  {
   "cell_type": "code",
   "execution_count": 15,
   "metadata": {},
   "outputs": [
    {
     "data": {
      "text/html": [
       "<div>\n",
       "<style scoped>\n",
       "    .dataframe tbody tr th:only-of-type {\n",
       "        vertical-align: middle;\n",
       "    }\n",
       "\n",
       "    .dataframe tbody tr th {\n",
       "        vertical-align: top;\n",
       "    }\n",
       "\n",
       "    .dataframe thead th {\n",
       "        text-align: right;\n",
       "    }\n",
       "</style>\n",
       "<table border=\"1\" class=\"dataframe\">\n",
       "  <thead>\n",
       "    <tr style=\"text-align: right;\">\n",
       "      <th></th>\n",
       "      <th>id</th>\n",
       "      <th>alpha</th>\n",
       "      <th>text</th>\n",
       "    </tr>\n",
       "  </thead>\n",
       "  <tbody>\n",
       "    <tr>\n",
       "      <th>0</th>\n",
       "      <td>0</td>\n",
       "      <td>a</td>\n",
       "      <td>Only 3 weeks away! Empower ME Breakfast RSVP T...</td>\n",
       "    </tr>\n",
       "    <tr>\n",
       "      <th>1</th>\n",
       "      <td>1</td>\n",
       "      <td>a</td>\n",
       "      <td>Tampa Sunday Funday Walk As Your Favorite Supe...</td>\n",
       "    </tr>\n",
       "    <tr>\n",
       "      <th>2</th>\n",
       "      <td>2</td>\n",
       "      <td>a</td>\n",
       "      <td>Clemson basketball team wins gold medal for US...</td>\n",
       "    </tr>\n",
       "    <tr>\n",
       "      <th>3</th>\n",
       "      <td>3</td>\n",
       "      <td>a</td>\n",
       "      <td>Indulge your sweet tooth. Vote for Carmella's ...</td>\n",
       "    </tr>\n",
       "    <tr>\n",
       "      <th>4</th>\n",
       "      <td>4</td>\n",
       "      <td>a</td>\n",
       "      <td>The GOOD NEWS of Troy, Ohio - 4/21/2019 Easter...</td>\n",
       "    </tr>\n",
       "  </tbody>\n",
       "</table>\n",
       "</div>"
      ],
      "text/plain": [
       "   id alpha                                               text\n",
       "0   0     a  Only 3 weeks away! Empower ME Breakfast RSVP T...\n",
       "1   1     a  Tampa Sunday Funday Walk As Your Favorite Supe...\n",
       "2   2     a  Clemson basketball team wins gold medal for US...\n",
       "3   3     a  Indulge your sweet tooth. Vote for Carmella's ...\n",
       "4   4     a  The GOOD NEWS of Troy, Ohio - 4/21/2019 Easter..."
      ]
     },
     "execution_count": 15,
     "metadata": {},
     "output_type": "execute_result"
    }
   ],
   "source": [
    "X.head()"
   ]
  },
  {
   "cell_type": "code",
   "execution_count": 16,
   "metadata": {},
   "outputs": [
    {
     "data": {
      "text/plain": [
       "0    0\n",
       "1    0\n",
       "2    0\n",
       "3    0\n",
       "4    0\n",
       "Name: label, dtype: int64"
      ]
     },
     "execution_count": 16,
     "metadata": {},
     "output_type": "execute_result"
    }
   ],
   "source": [
    "y.head()"
   ]
  },
  {
   "cell_type": "code",
   "execution_count": 17,
   "metadata": {},
   "outputs": [],
   "source": [
    "from sklearn.model_selection import train_test_split\n",
    "\n",
    "X_train, X_test, y_train, y_test = train_test_split(X, y, test_size=0.2, stratify=y)\n",
    "\n",
    "train_df = pd.DataFrame({\n",
    "    'id': X_train['id'],\n",
    "    'label':y_train,\n",
    "    'alpha': ['a']*X_train.shape[0],\n",
    "    'text': X_train['text']\n",
    "})\n",
    "\n",
    "\n",
    "test_df = pd.DataFrame({\n",
    "    'id': X_test['id'],\n",
    "    'label':y_test,\n",
    "    'alpha': ['a']*X_test.shape[0],\n",
    "    'text': X_test['text']\n",
    "})"
   ]
  },
  {
   "cell_type": "code",
   "execution_count": 18,
   "metadata": {},
   "outputs": [
    {
     "data": {
      "text/plain": [
       "(2237, 4)"
      ]
     },
     "execution_count": 18,
     "metadata": {},
     "output_type": "execute_result"
    }
   ],
   "source": [
    "test_df.shape"
   ]
  },
  {
   "cell_type": "code",
   "execution_count": 19,
   "metadata": {},
   "outputs": [
    {
     "data": {
      "text/plain": [
       "(8945, 4)"
      ]
     },
     "execution_count": 19,
     "metadata": {},
     "output_type": "execute_result"
    }
   ],
   "source": [
    "train_df.shape"
   ]
  },
  {
   "cell_type": "code",
   "execution_count": 20,
   "metadata": {},
   "outputs": [],
   "source": [
    "train_df.to_csv(prefix+'train.tsv', sep='\\t', index=False, header=False)\n",
    "test_df.to_csv(prefix+'dev.tsv', sep='\\t', index=False, header=False)"
   ]
  },
  {
   "cell_type": "code",
   "execution_count": null,
   "metadata": {},
   "outputs": [],
   "source": []
  }
 ],
 "metadata": {
  "kernelspec": {
   "display_name": "Python 3",
   "language": "python",
   "name": "python3"
  },
  "language_info": {
   "codemirror_mode": {
    "name": "ipython",
    "version": 3
   },
   "file_extension": ".py",
   "mimetype": "text/x-python",
   "name": "python",
   "nbconvert_exporter": "python",
   "pygments_lexer": "ipython3",
   "version": "3.7.3"
  }
 },
 "nbformat": 4,
 "nbformat_minor": 4
}
